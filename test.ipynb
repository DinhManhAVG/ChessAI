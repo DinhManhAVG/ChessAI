{
 "cells": [
  {
   "cell_type": "code",
   "execution_count": 1,
   "metadata": {},
   "outputs": [
    {
     "data": {
      "text/plain": [
       "64"
      ]
     },
     "execution_count": 1,
     "metadata": {},
     "output_type": "execute_result"
    }
   ],
   "source": [
    "WIDTH = HEIGHT = 512\n",
    "DIMENSION = 8\n",
    "WIDTH, HEIGHT\n",
    "\n",
    "HEIGHT // DIMENSION"
   ]
  },
  {
   "cell_type": "code",
   "execution_count": 2,
   "metadata": {},
   "outputs": [
    {
     "data": {
      "text/plain": [
       "4"
      ]
     },
     "execution_count": 2,
     "metadata": {},
     "output_type": "execute_result"
    }
   ],
   "source": [
    "300 // 64"
   ]
  },
  {
   "cell_type": "code",
   "execution_count": 10,
   "metadata": {},
   "outputs": [
    {
     "data": {
      "text/plain": [
       "2.3333333333333335"
      ]
     },
     "execution_count": 10,
     "metadata": {},
     "output_type": "execute_result"
    }
   ],
   "source": [
    "7 / 3"
   ]
  },
  {
   "cell_type": "code",
   "execution_count": 13,
   "metadata": {},
   "outputs": [
    {
     "name": "stdout",
     "output_type": "stream",
     "text": [
      "images/wp.png\n",
      "images/wR.png\n",
      "images/wN.png\n",
      "images/wB.png\n",
      "images/wK.png\n",
      "images/wQ.png\n",
      "images/bp.png\n",
      "images/bR.png\n",
      "images/bN.png\n",
      "images/bB.png\n",
      "images/bK.png\n",
      "images/bQ.png\n"
     ]
    }
   ],
   "source": [
    "pieces = [\"wp\", \"wR\", \"wN\", \"wB\", \"wK\", \"wQ\", \"bp\", \"bR\", \"bN\", \"bB\", \"bK\", \"bQ\"]\n",
    "for piece in pieces:\n",
    "    print(f\"images/{piece}.png\")"
   ]
  },
  {
   "cell_type": "code",
   "execution_count": 6,
   "metadata": {},
   "outputs": [
    {
     "data": {
      "text/plain": [
       "{7: '1', 6: '2', 5: '3', 4: '4', 3: '5', 2: '6', 1: '7', 0: '8'}"
      ]
     },
     "execution_count": 6,
     "metadata": {},
     "output_type": "execute_result"
    }
   ],
   "source": [
    "ranksToRows = {\"1\": 7, \"2\": 6, \"3\": 5, \"4\": 4, \"5\": 3, \"6\": 2, \"7\": 1, \"8\": 0}\n",
    "rowsToRanks = {value: key for key, value in ranksToRows.items()}\n",
    "rowsToRanks"
   ]
  },
  {
   "cell_type": "code",
   "execution_count": 7,
   "metadata": {},
   "outputs": [
    {
     "data": {
      "text/plain": [
       "{0: 'a', 1: 'b', 2: 'c', 3: 'd', 4: 'e', 5: 'f', 6: 'g', 7: 'h'}"
      ]
     },
     "execution_count": 7,
     "metadata": {},
     "output_type": "execute_result"
    }
   ],
   "source": [
    "filesToCols = {\"a\": 0, \"b\": 1, \"c\": 2, \"d\": 3, \"e\": 4, \"f\": 5, \"g\": 6, \"h\": 7}\n",
    "colsToFiles = {value: key for key, value in filesToCols.items()}\n",
    "colsToFiles"
   ]
  }
 ],
 "metadata": {
  "kernelspec": {
   "display_name": "base",
   "language": "python",
   "name": "python3"
  },
  "language_info": {
   "codemirror_mode": {
    "name": "ipython",
    "version": 3
   },
   "file_extension": ".py",
   "mimetype": "text/x-python",
   "name": "python",
   "nbconvert_exporter": "python",
   "pygments_lexer": "ipython3",
   "version": "3.11.5"
  }
 },
 "nbformat": 4,
 "nbformat_minor": 2
}
