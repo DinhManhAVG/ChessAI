{
 "cells": [
  {
   "cell_type": "code",
   "execution_count": 1,
   "metadata": {},
   "outputs": [
    {
     "data": {
      "text/plain": [
       "64"
      ]
     },
     "execution_count": 1,
     "metadata": {},
     "output_type": "execute_result"
    }
   ],
   "source": [
    "WIDTH = HEIGHT = 512\n",
    "DIMENSION = 8\n",
    "WIDTH, HEIGHT\n",
    "\n",
    "HEIGHT // DIMENSION"
   ]
  },
  {
   "cell_type": "code",
   "execution_count": 2,
   "metadata": {},
   "outputs": [
    {
     "data": {
      "text/plain": [
       "4"
      ]
     },
     "execution_count": 2,
     "metadata": {},
     "output_type": "execute_result"
    }
   ],
   "source": [
    "300 // 64"
   ]
  },
  {
   "cell_type": "code",
   "execution_count": 10,
   "metadata": {},
   "outputs": [
    {
     "data": {
      "text/plain": [
       "2.3333333333333335"
      ]
     },
     "execution_count": 10,
     "metadata": {},
     "output_type": "execute_result"
    }
   ],
   "source": [
    "7 / 3"
   ]
  },
  {
   "cell_type": "code",
   "execution_count": 13,
   "metadata": {},
   "outputs": [
    {
     "name": "stdout",
     "output_type": "stream",
     "text": [
      "images/wp.png\n",
      "images/wR.png\n",
      "images/wN.png\n",
      "images/wB.png\n",
      "images/wK.png\n",
      "images/wQ.png\n",
      "images/bp.png\n",
      "images/bR.png\n",
      "images/bN.png\n",
      "images/bB.png\n",
      "images/bK.png\n",
      "images/bQ.png\n"
     ]
    }
   ],
   "source": [
    "pieces = [\"wp\", \"wR\", \"wN\", \"wB\", \"wK\", \"wQ\", \"bp\", \"bR\", \"bN\", \"bB\", \"bK\", \"bQ\"]\n",
    "for piece in pieces:\n",
    "    print(f\"images/{piece}.png\")"
   ]
  },
  {
   "cell_type": "code",
   "execution_count": 6,
   "metadata": {},
   "outputs": [
    {
     "data": {
      "text/plain": [
       "{7: '1', 6: '2', 5: '3', 4: '4', 3: '5', 2: '6', 1: '7', 0: '8'}"
      ]
     },
     "execution_count": 6,
     "metadata": {},
     "output_type": "execute_result"
    }
   ],
   "source": [
    "ranksToRows = {\"1\": 7, \"2\": 6, \"3\": 5, \"4\": 4, \"5\": 3, \"6\": 2, \"7\": 1, \"8\": 0}\n",
    "rowsToRanks = {value: key for key, value in ranksToRows.items()}\n",
    "rowsToRanks"
   ]
  },
  {
   "cell_type": "code",
   "execution_count": 7,
   "metadata": {},
   "outputs": [
    {
     "data": {
      "text/plain": [
       "{0: 'a', 1: 'b', 2: 'c', 3: 'd', 4: 'e', 5: 'f', 6: 'g', 7: 'h'}"
      ]
     },
     "execution_count": 7,
     "metadata": {},
     "output_type": "execute_result"
    }
   ],
   "source": [
    "filesToCols = {\"a\": 0, \"b\": 1, \"c\": 2, \"d\": 3, \"e\": 4, \"f\": 5, \"g\": 6, \"h\": 7}\n",
    "colsToFiles = {value: key for key, value in filesToCols.items()}\n",
    "colsToFiles"
   ]
  },
  {
   "cell_type": "code",
   "execution_count": 5,
   "metadata": {},
   "outputs": [],
   "source": [
    "knight_scores = [[0.0, 0.1, 0.2, 0.2, 0.2, 0.2, 0.1, 0.0],\n",
    "                 [0.1, 0.3, 0.5, 0.5, 0.5, 0.5, 0.3, 0.1],\n",
    "                 [0.2, 0.5, 0.6, 0.65, 0.65, 0.6, 0.5, 0.2],\n",
    "                 [0.2, 0.55, 0.65, 0.7, 0.7, 0.65, 0.55, 0.2],\n",
    "                 [0.2, 0.5, 0.65, 0.7, 0.7, 0.65, 0.5, 0.2],\n",
    "                 [0.2, 0.55, 0.6, 0.65, 0.65, 0.6, 0.55, 0.2],\n",
    "                 [0.1, 0.3, 0.5, 0.55, 0.55, 0.5, 0.3, 0.1],\n",
    "                 [0.0, 0.1, 0.2, 0.2, 0.2, 0.2, 0.1, 0.0]]\n",
    "\n",
    "bishop_scores = [[0.0, 0.2, 0.2, 0.2, 0.2, 0.2, 0.2, 0.0],\n",
    "                 [0.2, 0.4, 0.4, 0.4, 0.4, 0.4, 0.4, 0.2],\n",
    "                 [0.2, 0.4, 0.5, 0.6, 0.6, 0.5, 0.4, 0.2],\n",
    "                 [0.2, 0.5, 0.5, 0.6, 0.6, 0.5, 0.5, 0.2],\n",
    "                 [0.2, 0.4, 0.6, 0.6, 0.6, 0.6, 0.4, 0.2],\n",
    "                 [0.2, 0.6, 0.6, 0.6, 0.6, 0.6, 0.6, 0.2],\n",
    "                 [0.2, 0.5, 0.4, 0.4, 0.4, 0.4, 0.5, 0.2],\n",
    "                 [0.0, 0.2, 0.2, 0.2, 0.2, 0.2, 0.2, 0.0]]\n",
    "\n",
    "rook_scores = [[0.25, 0.25, 0.25, 0.25, 0.25, 0.25, 0.25, 0.25],\n",
    "               [0.5, 0.75, 0.75, 0.75, 0.75, 0.75, 0.75, 0.5],\n",
    "               [0.0, 0.25, 0.25, 0.25, 0.25, 0.25, 0.25, 0.0],\n",
    "               [0.0, 0.25, 0.25, 0.25, 0.25, 0.25, 0.25, 0.0],\n",
    "               [0.0, 0.25, 0.25, 0.25, 0.25, 0.25, 0.25, 0.0],\n",
    "               [0.0, 0.25, 0.25, 0.25, 0.25, 0.25, 0.25, 0.0],\n",
    "               [0.0, 0.25, 0.25, 0.25, 0.25, 0.25, 0.25, 0.0],\n",
    "               [0.25, 0.25, 0.25, 0.5, 0.5, 0.25, 0.25, 0.25]]\n",
    "\n",
    "queen_scores = [[0.0, 0.2, 0.2, 0.3, 0.3, 0.2, 0.2, 0.0],\n",
    "                [0.2, 0.4, 0.4, 0.4, 0.4, 0.4, 0.4, 0.2],\n",
    "                [0.2, 0.4, 0.5, 0.5, 0.5, 0.5, 0.4, 0.2],\n",
    "                [0.3, 0.4, 0.5, 0.5, 0.5, 0.5, 0.4, 0.3],\n",
    "                [0.4, 0.4, 0.5, 0.5, 0.5, 0.5, 0.4, 0.3],\n",
    "                [0.2, 0.5, 0.5, 0.5, 0.5, 0.5, 0.4, 0.2],\n",
    "                [0.2, 0.4, 0.5, 0.4, 0.4, 0.4, 0.4, 0.2],\n",
    "                [0.0, 0.2, 0.2, 0.3, 0.3, 0.2, 0.2, 0.0]]\n",
    "\n",
    "pawn_scores = [[0.8, 0.8, 0.8, 0.8, 0.8, 0.8, 0.8, 0.8],\n",
    "               [0.7, 0.7, 0.7, 0.7, 0.7, 0.7, 0.7, 0.7],\n",
    "               [0.3, 0.3, 0.4, 0.5, 0.5, 0.4, 0.3, 0.3],\n",
    "               [0.25, 0.25, 0.3, 0.45, 0.45, 0.3, 0.25, 0.25],\n",
    "               [0.2, 0.2, 0.2, 0.4, 0.4, 0.2, 0.2, 0.2],\n",
    "               [0.25, 0.15, 0.1, 0.2, 0.2, 0.1, 0.15, 0.25],\n",
    "               [0.25, 0.3, 0.3, 0.0, 0.0, 0.3, 0.3, 0.25],\n",
    "               [0.2, 0.2, 0.2, 0.2, 0.2, 0.2, 0.2, 0.2]]"
   ]
  },
  {
   "cell_type": "code",
   "execution_count": 6,
   "metadata": {},
   "outputs": [
    {
     "data": {
      "text/plain": [
       "[[0.2, 0.2, 0.2, 0.2, 0.2, 0.2, 0.2, 0.2],\n",
       " [0.25, 0.3, 0.3, 0.0, 0.0, 0.3, 0.3, 0.25],\n",
       " [0.25, 0.15, 0.1, 0.2, 0.2, 0.1, 0.15, 0.25],\n",
       " [0.2, 0.2, 0.2, 0.4, 0.4, 0.2, 0.2, 0.2],\n",
       " [0.25, 0.25, 0.3, 0.45, 0.45, 0.3, 0.25, 0.25],\n",
       " [0.3, 0.3, 0.4, 0.5, 0.5, 0.4, 0.3, 0.3],\n",
       " [0.7, 0.7, 0.7, 0.7, 0.7, 0.7, 0.7, 0.7],\n",
       " [0.8, 0.8, 0.8, 0.8, 0.8, 0.8, 0.8, 0.8]]"
      ]
     },
     "execution_count": 6,
     "metadata": {},
     "output_type": "execute_result"
    }
   ],
   "source": [
    "pawn_scores[::-1]"
   ]
  },
  {
   "cell_type": "code",
   "execution_count": 2,
   "metadata": {},
   "outputs": [],
   "source": [
    "import pygame as p"
   ]
  },
  {
   "cell_type": "code",
   "execution_count": 3,
   "metadata": {},
   "outputs": [
    {
     "data": {
      "text/plain": [
       "'2.5.2'"
      ]
     },
     "execution_count": 3,
     "metadata": {},
     "output_type": "execute_result"
    }
   ],
   "source": [
    "p.__version__"
   ]
  }
 ],
 "metadata": {
  "kernelspec": {
   "display_name": "base",
   "language": "python",
   "name": "python3"
  },
  "language_info": {
   "codemirror_mode": {
    "name": "ipython",
    "version": 3
   },
   "file_extension": ".py",
   "mimetype": "text/x-python",
   "name": "python",
   "nbconvert_exporter": "python",
   "pygments_lexer": "ipython3",
   "version": "3.12.1"
  }
 },
 "nbformat": 4,
 "nbformat_minor": 2
}
